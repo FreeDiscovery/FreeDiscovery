{
  "cells": [
    {
      "cell_type": "code",
      "execution_count": null,
      "metadata": {
        "collapsed": false
      },
      "outputs": [],
      "source": [
        "%matplotlib inline"
      ]
    },
    {
      "cell_type": "markdown",
      "metadata": {},
      "source": [
        "\nEmail threading Example [REST API]\n--------------------------------------\n\nThread a email collection\n\n"
      ]
    },
    {
      "cell_type": "code",
      "execution_count": null,
      "metadata": {
        "collapsed": false
      },
      "outputs": [],
      "source": [
        "from __future__ import print_function\n\nfrom time import time\nimport sys\nimport platform\nimport sys\n\nimport pandas as pd\nimport requests\n\npd.options.display.float_format = '{:,.3f}'.format\n\n\nif platform.system() == 'Windows' and sys.version_info > (3, 0):\n    print('This example currently fails on Windows with PY3 (issue #')\n    sys.exit()\n\ndataset_name = \"fedora_ml_3k_subset\"     # see list of available datasets\n\nBASE_URL = \"http://localhost:5001/api/v0\"  # FreeDiscovery server URL\n\nprint(\" 0. Load the test dataset\")\nurl = BASE_URL + '/example-dataset/{}'.format(dataset_name)\nprint(\" GET\", url)\nres = requests.get(url)\nres = res.json()\n\n# To use a custom dataset, simply specify the following variables\ndata_dir = res['metadata']['data_dir']\n\n\nprint(\"\\n1.a Parse emails\")\nurl = BASE_URL + '/feature-extraction'\nprint(\" POST\", url)\nres = requests.post(url, json={'parse_email_headers': True}).json()\n\ndsid = res['id']\nprint(\"   => received {}\".format(list(res.keys())))\nprint(\"   => dsid = {}\".format(dsid))\n\n\nurl = BASE_URL+'/feature-extraction/{}'.format(dsid)\nprint(\" POST\", url)\nrequests.post(url, json={'data_dir': data_dir})\n\n\nprint(\"\\n2. Email threading\")\n\nurl = BASE_URL + '/email-threading/'\nprint(\" POST\", url)\nt0 = time()\nres = requests.post(url, json={'parent_id': dsid}).json()\n\nmid = res['id']\nprint(\"     => model id = {}\".format(mid))\n\n\ndef print_thread(container, depth=0):\n    print(''.join(['> ' * depth,  container['subject'],\n                   ' (id={})'.format(container['id'])]))\n\n    for child in container['children']:\n        print_thread(child, depth + 1)\n\n\nprint(\"\\nThreading examples\\n\"\n      \"cf. https://www.redhat.com/archives/rhl-devel-list/2008-October/thread.htlm \\n\"\n      \"for ground truth data (mailman has a maximum threading depth of 3, unlike FreeDiscovery)\"\n       )\nfor idx in [-1, -2, -3, -4, -5]: # get latest threads\n    print(' ')\n    print_thread(res['data'][idx])"
      ]
    }
  ],
  "metadata": {
    "kernelspec": {
      "display_name": "Python 3",
      "language": "python",
      "name": "python3"
    },
    "language_info": {
      "codemirror_mode": {
        "name": "ipython",
        "version": 3
      },
      "file_extension": ".py",
      "mimetype": "text/x-python",
      "name": "python",
      "nbconvert_exporter": "python",
      "pygments_lexer": "ipython3",
      "version": "3.6.1"
    }
  },
  "nbformat": 4,
  "nbformat_minor": 0
}