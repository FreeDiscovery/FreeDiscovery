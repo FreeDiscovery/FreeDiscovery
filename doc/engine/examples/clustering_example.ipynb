{
  "cells": [
    {
      "cell_type": "code",
      "execution_count": null,
      "metadata": {
        "collapsed": false
      },
      "outputs": [],
      "source": [
        "%matplotlib inline"
      ]
    },
    {
      "cell_type": "markdown",
      "metadata": {},
      "source": [
        "\nClustering Example\n------------------\n\nCluster documents into clusters\n\n"
      ]
    },
    {
      "cell_type": "code",
      "execution_count": null,
      "metadata": {
        "collapsed": false
      },
      "outputs": [],
      "source": [
        "import os.path\nimport pandas as pd\nfrom time import time\nimport requests\n\npd.options.display.float_format = '{:,.3f}'.format\n\n\ndataset_name = \"treclegal09_2k_subset\"     # see list of available datasets\n\nBASE_URL = \"http://localhost:5001/api/v0\"  # FreeDiscovery server URL\n\nprint(\" 0. Load the example dataset\")\nurl = BASE_URL + '/example-dataset/{}'.format(dataset_name)\nprint(\" GET\", url)\ninput_ds = requests.get(url).json()\n\n# To use a custom dataset, simply specify the following variables\ndata_dir = input_ds['metadata']['data_dir']\ndataset_definition = [{'document_id': row['document_id'],\n                       'file_path': os.path.join(data_dir, row['file_path'])}\n                      for row in input_ds['dataset']]\n\n# # 1. Feature extraction (non hashed)\n\nprint(\"\\n1.a Load dataset and initalize feature extraction\")\nurl = BASE_URL + '/feature-extraction'\nprint(\" POST\", url)\nfe_opts = {  # 'min_df': 4, 'max_df': 0.75  # filter out (too)/(un)frequent words\n           }\nres = requests.post(url, json=fe_opts).json()\n\ndsid = res['id']\nprint(\"   => received {}\".format(list(res.keys())))\nprint(\"   => dsid = {}\".format(dsid))\n\n\nprint(\"\\n1.b Run feature extraction\")\n# progress status is available for the hashed version only\nurl = BASE_URL+'/feature-extraction/{}'.format(dsid)\nprint(\" POST\", url)\nres = requests.post(url, json={'dataset_definition': dataset_definition})\n\nprint(\"\\n1.d. check the parameters of the extracted features\")\nurl = BASE_URL + '/feature-extraction/{}'.format(dsid)\nprint(' GET', url)\nres = requests.get(url).json()\n\nprint('\\n'.join(['     - {}: {}'.format(key, val) for key, val in res.items()\n                 if \"filenames\" not in key]))\n\nprint(\"\\n2. Calculate LSI\")\n\nurl = BASE_URL + '/lsi/'\nprint(\"POST\", url)\n\nn_components = 300\nres = requests.post(url,\n                    json={'n_components': n_components,\n                          'parent_id': dsid\n                          }).json()\n\nlsi_id = res['id']\nprint('  => LSI model id = {}'.format(lsi_id))\nprint(('  => SVD decomposition with {} dimensions '\n       'explaining {:.2f} % variabilty of the data')\n      .format(n_components, res['explained_variance']*100))\n\n# # 3. Document Clustering (LSI + K-Means)\n\nprint(\"\\n3.a. Document clustering (LSI + K-means)\")\n\nurl = BASE_URL + '/clustering/k-mean/'\nprint(\" POST\", url)\nt0 = time()\nres = requests.post(url,\n                    json={'parent_id': lsi_id,\n                          'n_clusters': 10,\n                          }).json()\n\nmid = res['id']\nprint(\"     => model id = {}\".format(mid))\n\nprint(\"\\n3.b. Computing cluster labels\")\nurl = BASE_URL + '/clustering/k-mean/{}'.format(mid)\nprint(\" GET\", url)\nres = requests.get(url,\n                   json={'n_top_words': 3\n                         }).json()\nt1 = time()\n\n\ndata = res['data']\nfor row in data:\n    row['n_documents'] = len(row.pop('documents'))\n\nprint('    .. computed in {:.1f}s'.format(t1 - t0))\nprint(pd.DataFrame(data))\n\n\n# # 4. Document Clustering (LSI + Birch Clustering)\n\nprint(\"\\n4.a. Document clustering (LSI + Birch clustering)\")\n\nurl = BASE_URL + '/clustering/birch/'\nprint(\" POST\", url)\nt0 = time()\nres = requests.post(url,\n                    json={'parent_id': lsi_id,\n                          'n_clusters': -1,\n                          'min_similarity': 0.7,\n                          'branching_factor': 20,\n                          'max_tree_depth': 2,\n                          }).json()\n\nmid = res['id']\nprint(\"     => model id = {}\".format(mid))\n\nprint(\"\\n4.b. Computing cluster labels\")\nurl = BASE_URL + '/clustering/birch/{}'.format(mid)\nprint(\" GET\", url)\nres = requests.get(url,\n                   json={'n_top_words': 3\n                         }).json()\nt1 = time()\n\nprint('    .. computed in {:.1f}s'.format(t1 - t0))\ndata = res['data']\nfor row in data:\n    row['n_documents'] = len(row.pop('documents'))\n\nprint(pd.DataFrame(data))\n\n# # 4. Optimal sampling (LSI + Birch Clustering)\n\nprint(\"\\n4.a. Optimal sampling (LSI + Birch clustering)\")\n\nt0 = time()\nurl = BASE_URL + '/clustering/birch/{}'.format(mid)\nprint(\" GET\", url)\nres = requests.get(url,\n                   json={'return_optimal_sampling': True,\n                         'sampling_min_coverage': 0.9\n                         }).json()\nt1 = time()\nprint('    .. computed in {:.1f}s'.format(t1 - t0))\ndata = res['data']\n\nprint(pd.DataFrame(data))\n\n# 4. Cleaning\nprint(\"\\n5. Delete the extracted features\")\nurl = BASE_URL + '/feature-extraction/{}'.format(dsid)\nprint(\" DELETE\", url)\nrequests.delete(url)"
      ]
    }
  ],
  "metadata": {
    "kernelspec": {
      "display_name": "Python 3",
      "language": "python",
      "name": "python3"
    },
    "language_info": {
      "codemirror_mode": {
        "name": "ipython",
        "version": 3
      },
      "file_extension": ".py",
      "mimetype": "text/x-python",
      "name": "python",
      "nbconvert_exporter": "python",
      "pygments_lexer": "ipython3",
      "version": "3.6.1"
    }
  },
  "nbformat": 4,
  "nbformat_minor": 0
}