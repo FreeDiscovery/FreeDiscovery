{
  "cells": [
    {
      "cell_type": "code",
      "execution_count": null,
      "metadata": {
        "collapsed": false
      },
      "outputs": [],
      "source": [
        "%matplotlib inline"
      ]
    },
    {
      "cell_type": "markdown",
      "metadata": {},
      "source": [
        "\nCategorization Interpretation Example\n-------------------------------------\n\nA visual interpretation for the binary categorization outcome for a single document\nby looking at the relative contribution of individual words\n\n"
      ]
    },
    {
      "cell_type": "code",
      "execution_count": null,
      "metadata": {
        "collapsed": false
      },
      "outputs": [],
      "source": [
        "import os\nfrom sklearn.datasets import fetch_20newsgroups\nfrom sklearn.linear_model import LogisticRegression\nfrom sklearn.feature_extraction.text import TfidfVectorizer\nimport matplotlib as mpl\nmpl.use('Agg')\nimport matplotlib.pyplot as plt\n\nfrom freediscovery.categorization import binary_sensitivity_analysis\nfrom freediscovery.interpretation import explain_categorization, _make_cmap\n\n\nnewsgroups = fetch_20newsgroups(subset='train', categories=['sci.space', 'comp.graphics'],\n                                remove=('headers', 'footers', 'quotes'))\n\ndocument_id = 312 # the document id we want to visualize\n\nvectorizer = TfidfVectorizer(stop_words='english')\nX = vectorizer.fit_transform(newsgroups.data)\n\nclf = LogisticRegression()\nclf.fit(X, newsgroups.target)\n\nrepr_proba = 'Predicted: {0}: {{0:.2f}}, {1}: {{1:.2f}}'.format(*newsgroups.target_names)\nprint(repr_proba.format(*clf.predict_proba(X[document_id])[0]))\nprint('Actual label :', newsgroups.target_names[newsgroups.target[document_id]])\n\n\nweights = binary_sensitivity_analysis(clf, vectorizer.vocabulary_, X[document_id])\n\ncmap = _make_cmap(alpha=0.2, filter_ratio=0.15)\nhtml, norm = explain_categorization(weights, newsgroups.data[document_id], cmap)\n\nfig, ax = plt.subplots(1,1, figsize=(6, 1.2))\nplt.subplots_adjust(bottom=0.4, top=0.7)\ncb1 = mpl.colorbar.ColorbarBase(ax, cmap=cmap, norm=norm, orientation='horizontal')\n\ncb1.set_label('{} < ----- > {}'.format(*newsgroups.target_names))\nax.set_title('Relative word weights', fontsize=12)\n\n# visualize the html results in sphinx gallery\ntmp_dir = os.path.join('..', 'doc', 'examples', 'python')\nif os.path.exists(tmp_dir):\n    with open(os.path.join(tmp_dir, 'out.html'), 'wt') as fh:\n        fh.write(html)"
      ]
    },
    {
      "cell_type": "markdown",
      "metadata": {},
      "source": [
        ".. raw:: html\n    :file: out.html\n\n"
      ]
    }
  ],
  "metadata": {
    "kernelspec": {
      "display_name": "Python 3",
      "language": "python",
      "name": "python3"
    },
    "language_info": {
      "codemirror_mode": {
        "name": "ipython",
        "version": 3
      },
      "file_extension": ".py",
      "mimetype": "text/x-python",
      "name": "python",
      "nbconvert_exporter": "python",
      "pygments_lexer": "ipython3",
      "version": "3.6.1"
    }
  },
  "nbformat": 4,
  "nbformat_minor": 0
}